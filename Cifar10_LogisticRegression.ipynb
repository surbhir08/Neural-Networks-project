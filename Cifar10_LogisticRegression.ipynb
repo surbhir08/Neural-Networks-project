{
  "nbformat": 4,
  "nbformat_minor": 0,
  "metadata": {
    "colab": {
      "name": "Cifar10_LogisticRegression.ipynb",
      "provenance": []
    },
    "kernelspec": {
      "name": "python3",
      "display_name": "Python 3"
    },
    "language_info": {
      "name": "python"
    },
    "widgets": {
      "application/vnd.jupyter.widget-state+json": {
        "be3a1dc394614a2d880ed0db528e4443": {
          "model_module": "@jupyter-widgets/controls",
          "model_name": "HBoxModel",
          "state": {
            "_view_name": "HBoxView",
            "_dom_classes": [],
            "_model_name": "HBoxModel",
            "_view_module": "@jupyter-widgets/controls",
            "_model_module_version": "1.5.0",
            "_view_count": null,
            "_view_module_version": "1.5.0",
            "box_style": "",
            "layout": "IPY_MODEL_cb116f66148041e8b088a42b6539e998",
            "_model_module": "@jupyter-widgets/controls",
            "children": [
              "IPY_MODEL_e802d089797e4bd9932d819cab4a7527",
              "IPY_MODEL_734b9050131e46338ae4943de12728fe"
            ]
          }
        },
        "cb116f66148041e8b088a42b6539e998": {
          "model_module": "@jupyter-widgets/base",
          "model_name": "LayoutModel",
          "state": {
            "_view_name": "LayoutView",
            "grid_template_rows": null,
            "right": null,
            "justify_content": null,
            "_view_module": "@jupyter-widgets/base",
            "overflow": null,
            "_model_module_version": "1.2.0",
            "_view_count": null,
            "flex_flow": null,
            "width": null,
            "min_width": null,
            "border": null,
            "align_items": null,
            "bottom": null,
            "_model_module": "@jupyter-widgets/base",
            "top": null,
            "grid_column": null,
            "overflow_y": null,
            "overflow_x": null,
            "grid_auto_flow": null,
            "grid_area": null,
            "grid_template_columns": null,
            "flex": null,
            "_model_name": "LayoutModel",
            "justify_items": null,
            "grid_row": null,
            "max_height": null,
            "align_content": null,
            "visibility": null,
            "align_self": null,
            "height": null,
            "min_height": null,
            "padding": null,
            "grid_auto_rows": null,
            "grid_gap": null,
            "max_width": null,
            "order": null,
            "_view_module_version": "1.2.0",
            "grid_template_areas": null,
            "object_position": null,
            "object_fit": null,
            "grid_auto_columns": null,
            "margin": null,
            "display": null,
            "left": null
          }
        },
        "e802d089797e4bd9932d819cab4a7527": {
          "model_module": "@jupyter-widgets/controls",
          "model_name": "FloatProgressModel",
          "state": {
            "_view_name": "ProgressView",
            "style": "IPY_MODEL_ef21d7d234f34b73853e690da4fbffde",
            "_dom_classes": [],
            "description": "",
            "_model_name": "FloatProgressModel",
            "bar_style": "success",
            "max": 170498071,
            "_view_module": "@jupyter-widgets/controls",
            "_model_module_version": "1.5.0",
            "value": 170498071,
            "_view_count": null,
            "_view_module_version": "1.5.0",
            "orientation": "horizontal",
            "min": 0,
            "description_tooltip": null,
            "_model_module": "@jupyter-widgets/controls",
            "layout": "IPY_MODEL_e11e6853a86340b4b572e0bc5cfe5b5a"
          }
        },
        "734b9050131e46338ae4943de12728fe": {
          "model_module": "@jupyter-widgets/controls",
          "model_name": "HTMLModel",
          "state": {
            "_view_name": "HTMLView",
            "style": "IPY_MODEL_555cb4e0a58945fa84787a1cc4f3caf1",
            "_dom_classes": [],
            "description": "",
            "_model_name": "HTMLModel",
            "placeholder": "​",
            "_view_module": "@jupyter-widgets/controls",
            "_model_module_version": "1.5.0",
            "value": " 170499072/? [03:13&lt;00:00, 882207.75it/s]",
            "_view_count": null,
            "_view_module_version": "1.5.0",
            "description_tooltip": null,
            "_model_module": "@jupyter-widgets/controls",
            "layout": "IPY_MODEL_4733a3a334fc408496a695d021d6f6d5"
          }
        },
        "ef21d7d234f34b73853e690da4fbffde": {
          "model_module": "@jupyter-widgets/controls",
          "model_name": "ProgressStyleModel",
          "state": {
            "_view_name": "StyleView",
            "_model_name": "ProgressStyleModel",
            "description_width": "initial",
            "_view_module": "@jupyter-widgets/base",
            "_model_module_version": "1.5.0",
            "_view_count": null,
            "_view_module_version": "1.2.0",
            "bar_color": null,
            "_model_module": "@jupyter-widgets/controls"
          }
        },
        "e11e6853a86340b4b572e0bc5cfe5b5a": {
          "model_module": "@jupyter-widgets/base",
          "model_name": "LayoutModel",
          "state": {
            "_view_name": "LayoutView",
            "grid_template_rows": null,
            "right": null,
            "justify_content": null,
            "_view_module": "@jupyter-widgets/base",
            "overflow": null,
            "_model_module_version": "1.2.0",
            "_view_count": null,
            "flex_flow": null,
            "width": null,
            "min_width": null,
            "border": null,
            "align_items": null,
            "bottom": null,
            "_model_module": "@jupyter-widgets/base",
            "top": null,
            "grid_column": null,
            "overflow_y": null,
            "overflow_x": null,
            "grid_auto_flow": null,
            "grid_area": null,
            "grid_template_columns": null,
            "flex": null,
            "_model_name": "LayoutModel",
            "justify_items": null,
            "grid_row": null,
            "max_height": null,
            "align_content": null,
            "visibility": null,
            "align_self": null,
            "height": null,
            "min_height": null,
            "padding": null,
            "grid_auto_rows": null,
            "grid_gap": null,
            "max_width": null,
            "order": null,
            "_view_module_version": "1.2.0",
            "grid_template_areas": null,
            "object_position": null,
            "object_fit": null,
            "grid_auto_columns": null,
            "margin": null,
            "display": null,
            "left": null
          }
        },
        "555cb4e0a58945fa84787a1cc4f3caf1": {
          "model_module": "@jupyter-widgets/controls",
          "model_name": "DescriptionStyleModel",
          "state": {
            "_view_name": "StyleView",
            "_model_name": "DescriptionStyleModel",
            "description_width": "",
            "_view_module": "@jupyter-widgets/base",
            "_model_module_version": "1.5.0",
            "_view_count": null,
            "_view_module_version": "1.2.0",
            "_model_module": "@jupyter-widgets/controls"
          }
        },
        "4733a3a334fc408496a695d021d6f6d5": {
          "model_module": "@jupyter-widgets/base",
          "model_name": "LayoutModel",
          "state": {
            "_view_name": "LayoutView",
            "grid_template_rows": null,
            "right": null,
            "justify_content": null,
            "_view_module": "@jupyter-widgets/base",
            "overflow": null,
            "_model_module_version": "1.2.0",
            "_view_count": null,
            "flex_flow": null,
            "width": null,
            "min_width": null,
            "border": null,
            "align_items": null,
            "bottom": null,
            "_model_module": "@jupyter-widgets/base",
            "top": null,
            "grid_column": null,
            "overflow_y": null,
            "overflow_x": null,
            "grid_auto_flow": null,
            "grid_area": null,
            "grid_template_columns": null,
            "flex": null,
            "_model_name": "LayoutModel",
            "justify_items": null,
            "grid_row": null,
            "max_height": null,
            "align_content": null,
            "visibility": null,
            "align_self": null,
            "height": null,
            "min_height": null,
            "padding": null,
            "grid_auto_rows": null,
            "grid_gap": null,
            "max_width": null,
            "order": null,
            "_view_module_version": "1.2.0",
            "grid_template_areas": null,
            "object_position": null,
            "object_fit": null,
            "grid_auto_columns": null,
            "margin": null,
            "display": null,
            "left": null
          }
        }
      }
    }
  },
  "cells": [
    {
      "cell_type": "code",
      "metadata": {
        "id": "svnxvbjHR6ZP"
      },
      "source": [
        "import torch\n",
        "from pathlib import Path\n",
        "import pandas as pd\n",
        "import io\n",
        "import matplotlib.pyplot as plt\n",
        "import numpy as np"
      ],
      "execution_count": 52,
      "outputs": []
    },
    {
      "cell_type": "code",
      "metadata": {
        "colab": {
          "base_uri": "https://localhost:8080/",
          "height": 117,
          "referenced_widgets": [
            "be3a1dc394614a2d880ed0db528e4443",
            "cb116f66148041e8b088a42b6539e998",
            "e802d089797e4bd9932d819cab4a7527",
            "734b9050131e46338ae4943de12728fe",
            "ef21d7d234f34b73853e690da4fbffde",
            "e11e6853a86340b4b572e0bc5cfe5b5a",
            "555cb4e0a58945fa84787a1cc4f3caf1",
            "4733a3a334fc408496a695d021d6f6d5"
          ]
        },
        "id": "Wko8CAonSGaB",
        "outputId": "9e7de60a-82eb-47b9-b1d4-77843fa8a67b"
      },
      "source": [
        "# import the training set (first 50,000 imgs) by setting train=True.\n",
        "\n",
        "trainset = torchvision.datasets.CIFAR10(root='./data', train=True,download=True)\n",
        "\n",
        "# import the test set (10,000 imgs) by setting train=False\n",
        "\n",
        "testset = torchvision.datasets.CIFAR10(root='./data', train=False, download=True)\n",
        "\n"
      ],
      "execution_count": 2,
      "outputs": [
        {
          "output_type": "stream",
          "text": [
            "Downloading https://www.cs.toronto.edu/~kriz/cifar-10-python.tar.gz to ./data/cifar-10-python.tar.gz\n"
          ],
          "name": "stdout"
        },
        {
          "output_type": "display_data",
          "data": {
            "application/vnd.jupyter.widget-view+json": {
              "model_id": "be3a1dc394614a2d880ed0db528e4443",
              "version_minor": 0,
              "version_major": 2
            },
            "text/plain": [
              "HBox(children=(FloatProgress(value=0.0, max=170498071.0), HTML(value='')))"
            ]
          },
          "metadata": {
            "tags": []
          }
        },
        {
          "output_type": "stream",
          "text": [
            "\n",
            "Extracting ./data/cifar-10-python.tar.gz to ./data\n",
            "Files already downloaded and verified\n"
          ],
          "name": "stdout"
        }
      ]
    },
    {
      "cell_type": "code",
      "metadata": {
        "id": "Jg02lZ_gSVwC"
      },
      "source": [
        "# define the ten labels manually.\n",
        "classes = ('plane', 'car', 'bird', 'cat', 'deer', 'dog', 'frog', 'horse', 'ship', 'truck')"
      ],
      "execution_count": 3,
      "outputs": []
    },
    {
      "cell_type": "code",
      "metadata": {
        "colab": {
          "base_uri": "https://localhost:8080/"
        },
        "id": "LerHKKIuShIu",
        "outputId": "2957ae84-8ac5-4829-bb6a-9a2ecfc9f8f4"
      },
      "source": [
        "#first image in our dataset\n",
        "\n",
        "trainset[0]"
      ],
      "execution_count": 5,
      "outputs": [
        {
          "output_type": "execute_result",
          "data": {
            "text/plain": [
              "(<PIL.Image.Image image mode=RGB size=32x32 at 0x7F2D96AAE850>, 6)"
            ]
          },
          "metadata": {
            "tags": []
          },
          "execution_count": 5
        }
      ]
    },
    {
      "cell_type": "code",
      "metadata": {
        "colab": {
          "base_uri": "https://localhost:8080/",
          "height": 300
        },
        "id": "Kl86e0j-TG39",
        "outputId": "0c505c1a-d2e6-48d9-bc8b-4e51f4405657"
      },
      "source": [
        "%matplotlib inline\n",
        "import matplotlib.pyplot as plt\n",
        "example = 0\n",
        "# index into the 50,000 x 2 trainset vector, and store the label in the variable 'label'. Store the PIL object in variable 'image'.\n",
        "image, label = trainset[example] #since each element of the trainset list is itself a tuple with the image details, and then the label\n",
        "# print the label for the image by indexing label into classes.\n",
        "print(\"this is an image of a \" + classes[(trainset[example])[1]])# first index into tuple in trainset, then the 2nd value (label), and then the classes\n",
        "plt.imshow(image)\n",
        " "
      ],
      "execution_count": 22,
      "outputs": [
        {
          "output_type": "stream",
          "text": [
            "this is an image of a frog\n"
          ],
          "name": "stdout"
        },
        {
          "output_type": "execute_result",
          "data": {
            "text/plain": [
              "<matplotlib.image.AxesImage at 0x7f2d95e5f6d0>"
            ]
          },
          "metadata": {
            "tags": []
          },
          "execution_count": 22
        },
        {
          "output_type": "display_data",
          "data": {
            "image/png": "[encoded data removed]",
            "text/plain": [
              "<Figure size 432x288 with 1 Axes>"
            ]
          },
          "metadata": {
            "tags": [],
            "needs_background": "light"
          }
        }
      ]
    },
    {
      "cell_type": "code",
      "metadata": {
        "id": "fu0hJjMvXOF7"
      },
      "source": [
        "#Transforming images into matrices of numbers (tensors).image-to-matrix conversion.\n",
        "import torchvision.transforms as transforms\n"
      ],
      "execution_count": 23,
      "outputs": []
    },
    {
      "cell_type": "code",
      "metadata": {
        "colab": {
          "base_uri": "https://localhost:8080/"
        },
        "id": "Bg5LAsBLYnRx",
        "outputId": "ba0e93cc-5a01-4b8b-b7c9-196720ce2771"
      },
      "source": [
        "datasetT = torchvision.datasets.CIFAR10(root='./data', train=True,\n",
        "                                        download=True, transform=transforms.ToTensor())"
      ],
      "execution_count": 24,
      "outputs": [
        {
          "output_type": "stream",
          "text": [
            "Files already downloaded and verified\n"
          ],
          "name": "stdout"
        }
      ]
    },
    {
      "cell_type": "code",
      "metadata": {
        "colab": {
          "base_uri": "https://localhost:8080/"
        },
        "id": "4xtzcYugZL3c",
        "outputId": "c9407b22-9c6a-4840-89c0-d3f519df9463"
      },
      "source": [
        "example = 5\n",
        "imgTensor, label = datasetT[example]\n",
        "print('size of image matrix: ' + str(imgTensor.shape))\n",
        "print(\"this is an image of a \" + classes[(trainset[example])[1]])"
      ],
      "execution_count": 25,
      "outputs": [
        {
          "output_type": "stream",
          "text": [
            "size of image matrix: torch.Size([3, 32, 32])\n",
            "this is an image of a car\n"
          ],
          "name": "stdout"
        }
      ]
    },
    {
      "cell_type": "code",
      "metadata": {
        "colab": {
          "base_uri": "https://localhost:8080/"
        },
        "id": "lmAjXPtWZvE-",
        "outputId": "553363a7-290d-4fec-d2df-ca74b922ea67"
      },
      "source": [
        "print(imgTensor[:, 0:2, 0:2])"
      ],
      "execution_count": 26,
      "outputs": [
        {
          "output_type": "stream",
          "text": [
            "tensor([[[0.6235, 0.5882],\n",
            "         [0.5569, 0.5725]],\n",
            "\n",
            "        [[0.4000, 0.3569],\n",
            "         [0.2941, 0.2824]],\n",
            "\n",
            "        [[0.3961, 0.3725],\n",
            "         [0.2667, 0.2588]]])\n"
          ],
          "name": "stdout"
        }
      ]
    },
    {
      "cell_type": "code",
      "metadata": {
        "colab": {
          "base_uri": "https://localhost:8080/",
          "height": 283
        },
        "id": "rgF-o98jZyXF",
        "outputId": "c6998a66-4415-430a-fec5-10acf06f2906"
      },
      "source": [
        "example = 21344\n",
        "imgTensor, label = datasetT[example]\n",
        "#plt.imshow(imgTensor[0, 0:32, 0:32], cmap='Reds')\n",
        "#plt.imshow(imgTensor[1, 1:32, 1:32], cmap='Greens')\n",
        "plt.imshow(imgTensor[2, 2:32, 2:32], cmap='Blues')\n",
        "# change the 0 to 1 or 2 for different color channels.\n",
        "print(\"R channel of image 3 in dataset\")"
      ],
      "execution_count": 45,
      "outputs": [
        {
          "output_type": "stream",
          "text": [
            "R channel of image 3 in dataset\n"
          ],
          "name": "stdout"
        },
        {
          "output_type": "display_data",
          "data": {
            "image/png": "[encoded data removed]",
            "text/plain": [
              "<Figure size 432x288 with 1 Axes>"
            ]
          },
          "metadata": {
            "tags": [],
            "needs_background": "light"
          }
        }
      ]
    },
    {
      "cell_type": "code",
      "metadata": {
        "id": "5PsAy3M9cRHS"
      },
      "source": [
        "#m ---> trainSet\n",
        "#pCV ---> valData\n",
        "#mCV ---> validSet"
      ],
      "execution_count": null,
      "outputs": []
    },
    {
      "cell_type": "code",
      "metadata": {
        "colab": {
          "base_uri": "https://localhost:8080/"
        },
        "id": "vRWnScVBbmkJ",
        "outputId": "4e107a99-fca1-4d92-d6f9-e4e615be3cba"
      },
      "source": [
        "# Split data into train, validation and Test\n",
        "\n",
        "#length of training examples.\n",
        "trainSet = 50000 \n",
        "\n",
        "#percentage of m dedicated to CV.  \n",
        "valData = 0.2\n",
        "\n",
        "# give the amount of examples dedicated to CV. \n",
        "validSet = int(trainSet*valData)\n",
        "print(\"amount of training examples: \" + str(trainSet - validSet))\n",
        "print(\"amount of validation examples: \" + str(validSet))"
      ],
      "execution_count": 47,
      "outputs": [
        {
          "output_type": "stream",
          "text": [
            "amount of training examples: 40000\n",
            "amount of validation examples: 10000\n"
          ],
          "name": "stdout"
        }
      ]
    },
    {
      "cell_type": "code",
      "metadata": {
        "id": "asgrLNq-cg4P"
      },
      "source": [
        "def splitIndices(trainSet, valData):\n",
        "  \"\"\" randomly shuffle a training set's indices, then split the indices into training and cross validation sets.\n",
        "   Pass in 'm', length of training set, and 'pCV', the percentage of the training set you would like \n",
        "   to dedicate to cross validation.\"\"\"\n",
        "   \n",
        "  # determine size of Validation set.\n",
        "  validSet = int(trainSet*valData)\n",
        "\n",
        "  #create random permutation of 0 to m-1 - randomly shuffle all values from 0 to m.\n",
        "  indices = np.random.permutation(trainSet)\n",
        "\n",
        "  #pick first validSet indices for training, and then validation.\n",
        "  return indices[validSet:], indices[:validSet]\n"
      ],
      "execution_count": 53,
      "outputs": []
    },
    {
      "cell_type": "code",
      "metadata": {
        "id": "4SFKygGGdFjb"
      },
      "source": [
        "trainIndices, valIndices = splitIndices(trainSet, valData)"
      ],
      "execution_count": 54,
      "outputs": []
    },
    {
      "cell_type": "code",
      "metadata": {
        "colab": {
          "base_uri": "https://localhost:8080/"
        },
        "id": "nXGQX1Etdc35",
        "outputId": "f4f0b96a-40ad-45e5-e506-bcf344daa7e1"
      },
      "source": [
        "# print the first few indices of the training set, and first few of the validation set, as a sanity check to see that they are shuffled.\n",
        "print(\"length of training set: \" + str(len(trainIndices)))\n",
        "print(\"length of cross validation set: \" + str(len(valIndices)))\n",
        "print()\n",
        "print('sample validation indices: ' + str(list(valIndices[0:8])))\n",
        "print('sample educational indices: ' + str(list(trainIndices[0:8])))"
      ],
      "execution_count": 55,
      "outputs": [
        {
          "output_type": "stream",
          "text": [
            "length of training set: 40000\n",
            "length of cross validation set: 10000\n",
            "\n",
            "sample validation indices: [34825, 699, 30026, 19353, 49648, 16511, 38260, 42276]\n",
            "sample educational indices: [32822, 36017, 40857, 10517, 1318, 21498, 18624, 30689]\n"
          ],
          "name": "stdout"
        }
      ]
    },
    {
      "cell_type": "code",
      "metadata": {
        "id": "LFMfs4YZgZih"
      },
      "source": [
        "#split up both our training and cross validation sets into batches of 100 training examples each.\n",
        "\n",
        "from torch.utils.data.sampler import SubsetRandomSampler\n",
        "from torch.utils.data.dataloader import DataLoader"
      ],
      "execution_count": 56,
      "outputs": []
    },
    {
      "cell_type": "code",
      "metadata": {
        "colab": {
          "base_uri": "https://localhost:8080/"
        },
        "id": "pO_YYdnWg5J9",
        "outputId": "503694c0-7043-429d-b0c3-40d994d51a25"
      },
      "source": [
        "batchSize = 100\n",
        "trainSampler = SubsetRandomSampler(trainIndices)\n",
        "trainLoader = DataLoader(datasetT, batchSize, shuffle=True, num_workers=4, pin_memory=True)\n",
        "valSampler = SubsetRandomSampler(valIndices)\n",
        "valLoader = DataLoader(datasetT, batchSize*2, num_workers=4, pin_memory=True)\n",
        "#test_loader = DataLoader(test_dataset, batch_size*2, num_workers=4, pin_memory=True)"
      ],
      "execution_count": 58,
      "outputs": [
        {
          "output_type": "stream",
          "text": [
            "/usr/local/lib/python3.7/dist-packages/torch/utils/data/dataloader.py:477: UserWarning: This DataLoader will create 4 worker processes in total. Our suggested max number of worker in current system is 2, which is smaller than what this DataLoader is going to create. Please be aware that excessive worker creation might get DataLoader running slow or even freeze, lower the worker number to avoid potential slowness/freeze if necessary.\n",
            "  cpuset_checked))\n"
          ],
          "name": "stderr"
        }
      ]
    },
    {
      "cell_type": "code",
      "metadata": {
        "id": "N27SCvRph1hz"
      },
      "source": [
        "# Logistic Regression"
      ],
      "execution_count": null,
      "outputs": []
    },
    {
      "cell_type": "code",
      "metadata": {
        "id": "IcoCpZVZjDZW"
      },
      "source": [
        "import torch.nn as nn\n",
        "\n",
        "# this will dictate the rows of the weights matrix\n",
        "inputSize = 3*32*32\n",
        "\n",
        "# this will dictate the columns of the weights matrix\n",
        "numClasses = 10\n",
        "\n",
        "# create our linear regression model (nn.Linear creates bias terms for us)\n",
        "model = nn.Linear(inputSize, numClasses)"
      ],
      "execution_count": 59,
      "outputs": []
    },
    {
      "cell_type": "code",
      "metadata": {
        "colab": {
          "base_uri": "https://localhost:8080/"
        },
        "id": "Bco_wJE5jlz-",
        "outputId": "584195a9-aa2f-4d5c-d708-f8370435a2aa"
      },
      "source": [
        "#This is a lot like linear regression, just with a lot more parameters. Let's see exactly how many parameters we have.\n",
        "\n",
        "print('dimensions of weight matrix: ' + str(model.weight.shape))\n",
        "print(model.weight)"
      ],
      "execution_count": 60,
      "outputs": [
        {
          "output_type": "stream",
          "text": [
            "dimensions of weight matrix: torch.Size([10, 3072])\n",
            "Parameter containing:\n",
            "tensor([[ 1.9961e-03,  1.0808e-02,  1.0013e-02,  ...,  1.2162e-02,\n",
            "         -1.6058e-02,  1.2868e-02],\n",
            "        [-1.0326e-02, -1.7720e-02, -1.0248e-02,  ..., -1.0262e-02,\n",
            "          4.1821e-04,  1.9713e-03],\n",
            "        [-6.9213e-06,  1.3578e-02, -1.2014e-02,  ..., -1.4384e-02,\n",
            "          1.6307e-02, -5.7091e-03],\n",
            "        ...,\n",
            "        [ 1.4869e-02,  1.1274e-02, -8.8895e-03,  ...,  1.5917e-02,\n",
            "          2.6890e-03,  8.1384e-03],\n",
            "        [ 8.2858e-03,  1.6242e-02,  4.7578e-03,  ...,  7.5124e-03,\n",
            "          3.0529e-03,  5.4832e-03],\n",
            "        [ 3.5686e-03, -1.4058e-02, -5.5727e-03,  ...,  1.6571e-02,\n",
            "         -8.3528e-04, -1.2112e-02]], requires_grad=True)\n"
          ],
          "name": "stdout"
        }
      ]
    },
    {
      "cell_type": "code",
      "metadata": {
        "colab": {
          "base_uri": "https://localhost:8080/"
        },
        "id": "uUoPDz_3jvCu",
        "outputId": "27d92696-2dbc-49a8-a5ce-3154686a1bff"
      },
      "source": [
        "print('dimensions of bias matrix: ' + str(model.bias.shape))\n",
        "print(model.bias)"
      ],
      "execution_count": 61,
      "outputs": [
        {
          "output_type": "stream",
          "text": [
            "dimensions of bias matrix: torch.Size([10])\n",
            "Parameter containing:\n",
            "tensor([ 0.0159,  0.0122, -0.0107, -0.0166, -0.0039,  0.0154, -0.0069,  0.0015,\n",
            "        -0.0109, -0.0111], requires_grad=True)\n"
          ],
          "name": "stdout"
        }
      ]
    },
    {
      "cell_type": "code",
      "metadata": {
        "id": "cwwwCHuBj0L-"
      },
      "source": [
        "#Now let's take the first 100 images from the dataset, and pass it into our model.\n",
        "\n",
        "#for images, labels in trainLoader: \n",
        "  # print(labels)\n",
        "   #print(images.shape)\n",
        "   #outputs = model(images)\n",
        "   #break"
      ],
      "execution_count": 63,
      "outputs": []
    },
    {
      "cell_type": "code",
      "metadata": {
        "id": "wVLto4N1kF9f"
      },
      "source": [
        "# Reshape:\n",
        "\n",
        "class CIFAR10(nn.Module):\n",
        "    def __init__(self):\n",
        "        super().__init__()\n",
        "        self.linear = nn.Linear(inputSize, numClasses)\n",
        "        \n",
        "    def forward(self, xb):\n",
        "        xb = xb.reshape(-1, 3072)\n",
        "        out = self.linear(xb)\n",
        "        return out\n",
        "    \n",
        "model = CIFAR10()"
      ],
      "execution_count": 64,
      "outputs": []
    },
    {
      "cell_type": "code",
      "metadata": {
        "colab": {
          "base_uri": "https://localhost:8080/"
        },
        "id": "rXBSJ3opkyhb",
        "outputId": "3f191807-e375-4960-d3fd-30817c058d5e"
      },
      "source": [
        "print(model.linear.weight.shape)\n",
        "print(model.linear.bias.shape)"
      ],
      "execution_count": 65,
      "outputs": [
        {
          "output_type": "stream",
          "text": [
            "torch.Size([10, 3072])\n",
            "torch.Size([10])\n"
          ],
          "name": "stdout"
        }
      ]
    },
    {
      "cell_type": "code",
      "metadata": {
        "colab": {
          "base_uri": "https://localhost:8080/"
        },
        "id": "AuD2itGDlSkp",
        "outputId": "26e4f065-46b9-4ba2-d225-0f0310d18187"
      },
      "source": [
        "for images, labels in trainLoader:\n",
        "  outputs = model(images)\n",
        "  break\n",
        "\n",
        "print('outputs.shape :', outputs.shape)\n",
        "print('sample outputs :\\n', outputs[:2]) # print 2 out of the 100 rows of the total output vector"
      ],
      "execution_count": 66,
      "outputs": [
        {
          "output_type": "stream",
          "text": [
            "/usr/local/lib/python3.7/dist-packages/torch/utils/data/dataloader.py:477: UserWarning: This DataLoader will create 4 worker processes in total. Our suggested max number of worker in current system is 2, which is smaller than what this DataLoader is going to create. Please be aware that excessive worker creation might get DataLoader running slow or even freeze, lower the worker number to avoid potential slowness/freeze if necessary.\n",
            "  cpuset_checked))\n"
          ],
          "name": "stderr"
        },
        {
          "output_type": "stream",
          "text": [
            "outputs.shape : torch.Size([100, 10])\n",
            "sample outputs :\n",
            " tensor([[-0.3799, -0.0401,  0.1539,  0.2449, -0.2857,  0.4590, -0.1393,  0.3124,\n",
            "          0.3930,  0.3582],\n",
            "        [-0.2289, -0.0489, -0.0436, -0.0006, -0.2450,  0.1861, -0.0146,  0.2215,\n",
            "          0.1922,  0.0323]], grad_fn=<SliceBackward>)\n"
          ],
          "name": "stdout"
        }
      ]
    },
    {
      "cell_type": "code",
      "metadata": {
        "id": "PrBp8WBMmQ1t"
      },
      "source": [
        "# Softmax\n",
        "import torch.nn.functional as F"
      ],
      "execution_count": 67,
      "outputs": []
    },
    {
      "cell_type": "code",
      "metadata": {
        "colab": {
          "base_uri": "https://localhost:8080/"
        },
        "id": "0B__3ao0mWkX",
        "outputId": "fed0e750-f999-47c2-f8a6-62da20ba097a"
      },
      "source": [
        "#We need to specify what dimension we want softmax to be applied upon.\n",
        "\n",
        "# apply the softmax for each output row in our 100 x 10 output (with batch size 100)\n",
        "probs = F.softmax(outputs, dim=1)\n",
        "\n",
        "# look at some sample probabilities\n",
        "print(\"sample probabilities:\\n\", probs[:2].data)\n",
        "# add up the probabilities of each row for a sanity check that they equal 1 now\n",
        "print(sum(list(probs[0])))"
      ],
      "execution_count": 68,
      "outputs": [
        {
          "output_type": "stream",
          "text": [
            "sample probabilities:\n",
            " tensor([[0.0591, 0.0830, 0.1008, 0.1104, 0.0649, 0.1368, 0.0752, 0.1181, 0.1280,\n",
            "         0.1237],\n",
            "        [0.0782, 0.0936, 0.0941, 0.0983, 0.0770, 0.1184, 0.0969, 0.1227, 0.1192,\n",
            "         0.1016]])\n",
            "tensor(1.0000, grad_fn=<AddBackward0>)\n"
          ],
          "name": "stdout"
        }
      ]
    },
    {
      "cell_type": "markdown",
      "metadata": {
        "id": "0zf4yGCymqko"
      },
      "source": [
        "Now, we can find the maximum value in each row to find the largest percentage, and thus, the prediction of the algorithm.\n",
        "We can see that when our paramaters are randomized, our algorithm is partial to guessing 6 (frog). Let's compare this predictions vector with our actual labels to calculate accuracy."
      ]
    },
    {
      "cell_type": "code",
      "metadata": {
        "colab": {
          "base_uri": "https://localhost:8080/"
        },
        "id": "_i3fI0pqmr9d",
        "outputId": "3d42ad35-8e28-4f63-ca41-e74298f65c41"
      },
      "source": [
        "maxProbs, preds = torch.max(probs, dim=1) #torch.max returns the max value itself (maxProbs) as well as the index of the prediction (preds)\n",
        "print(preds)\n",
        "print(maxProbs)"
      ],
      "execution_count": 69,
      "outputs": [
        {
          "output_type": "stream",
          "text": [
            "tensor([5, 7, 8, 8, 8, 8, 8, 8, 8, 9, 8, 8, 7, 8, 5, 8, 5, 8, 8, 8, 3, 8, 7, 7,\n",
            "        3, 5, 7, 8, 8, 8, 8, 8, 8, 8, 8, 5, 8, 8, 9, 7, 5, 8, 5, 5, 5, 8, 5, 7,\n",
            "        5, 7, 8, 5, 7, 5, 8, 5, 8, 8, 8, 7, 3, 8, 8, 8, 8, 8, 8, 8, 3, 8, 8, 8,\n",
            "        8, 8, 8, 7, 8, 8, 8, 9, 7, 5, 5, 8, 8, 8, 8, 8, 8, 8, 8, 7, 5, 8, 8, 8,\n",
            "        8, 8, 8, 8])\n",
            "tensor([0.1368, 0.1227, 0.1463, 0.1493, 0.1437, 0.1387, 0.1351, 0.1276, 0.1452,\n",
            "        0.1411, 0.1659, 0.1654, 0.1650, 0.1360, 0.1429, 0.1260, 0.1460, 0.1381,\n",
            "        0.1406, 0.1247, 0.1385, 0.1554, 0.1470, 0.1271, 0.1355, 0.1344, 0.1631,\n",
            "        0.1319, 0.1312, 0.1356, 0.1635, 0.1646, 0.1433, 0.1620, 0.1536, 0.1352,\n",
            "        0.1299, 0.1597, 0.1236, 0.1781, 0.1210, 0.1422, 0.1389, 0.1438, 0.1190,\n",
            "        0.1304, 0.1590, 0.1401, 0.1608, 0.1374, 0.1350, 0.1315, 0.1659, 0.1443,\n",
            "        0.1287, 0.1281, 0.1639, 0.1440, 0.1574, 0.1447, 0.1397, 0.1679, 0.1955,\n",
            "        0.1383, 0.1583, 0.1263, 0.1358, 0.1530, 0.1279, 0.1469, 0.1410, 0.1478,\n",
            "        0.1482, 0.1511, 0.1394, 0.1503, 0.1449, 0.1557, 0.1483, 0.1286, 0.1497,\n",
            "        0.1547, 0.1494, 0.1475, 0.1470, 0.1597, 0.1391, 0.1500, 0.1558, 0.1745,\n",
            "        0.1466, 0.1426, 0.1437, 0.1458, 0.1555, 0.1418, 0.1500, 0.1345, 0.1646,\n",
            "        0.1505], grad_fn=<MaxBackward0>)\n"
          ],
          "name": "stdout"
        }
      ]
    },
    {
      "cell_type": "code",
      "metadata": {
        "colab": {
          "base_uri": "https://localhost:8080/"
        },
        "id": "1nYWWt1unRmW",
        "outputId": "b099c9b0-9366-493c-ae5b-b947d96ce2ae"
      },
      "source": [
        "#evaluation and accuracy\n",
        "\n",
        "labels==preds"
      ],
      "execution_count": 70,
      "outputs": [
        {
          "output_type": "execute_result",
          "data": {
            "text/plain": [
              "tensor([False, False, False, False, False, False, False, False, False,  True,\n",
              "        False, False, False, False,  True, False, False, False, False, False,\n",
              "        False, False, False, False, False, False, False, False, False, False,\n",
              "        False, False, False, False, False, False, False, False, False, False,\n",
              "         True, False, False,  True, False, False, False, False, False, False,\n",
              "        False,  True, False, False, False, False,  True, False, False, False,\n",
              "        False,  True, False, False, False, False, False,  True, False, False,\n",
              "        False,  True, False, False, False, False, False,  True, False, False,\n",
              "        False, False, False, False, False, False, False, False, False, False,\n",
              "        False, False, False, False, False,  True, False, False, False, False])"
            ]
          },
          "metadata": {
            "tags": []
          },
          "execution_count": 70
        }
      ]
    },
    {
      "cell_type": "code",
      "metadata": {
        "id": "qVYmygqsnesC"
      },
      "source": [
        "#Create a function that adds up all the correct predictions and divides it by the total length of the labels.\n",
        "\n",
        "def accuracy(preds, labels):\n",
        "  return torch.sum(labels==preds).item() / len(labels)"
      ],
      "execution_count": 71,
      "outputs": []
    },
    {
      "cell_type": "code",
      "metadata": {
        "colab": {
          "base_uri": "https://localhost:8080/"
        },
        "id": "r_tdFjrTnodo",
        "outputId": "23905b0f-6218-41a0-c88c-de29081d3c8b"
      },
      "source": [
        "accuracy(preds, labels)"
      ],
      "execution_count": 72,
      "outputs": [
        {
          "output_type": "execute_result",
          "data": {
            "text/plain": [
              "0.11"
            ]
          },
          "metadata": {
            "tags": []
          },
          "execution_count": 72
        }
      ]
    },
    {
      "cell_type": "markdown",
      "metadata": {
        "id": "wHCOGgmDn7bK"
      },
      "source": [
        "Cross entropy is a differentiable, continuous function that can be minimized and tracked well. The cross_entropy function in pytorch also executes the softmax function as well."
      ]
    },
    {
      "cell_type": "code",
      "metadata": {
        "id": "M2SzJgsGn8CK"
      },
      "source": [
        "lossFn = F.cross_entropy"
      ],
      "execution_count": 73,
      "outputs": []
    },
    {
      "cell_type": "code",
      "metadata": {
        "colab": {
          "base_uri": "https://localhost:8080/"
        },
        "id": "4eyjx4KloQ1T",
        "outputId": "8994b478-d881-43db-a449-69d9ea5ab450"
      },
      "source": [
        "loss = lossFn(outputs, labels)\n",
        "print(loss)"
      ],
      "execution_count": 74,
      "outputs": [
        {
          "output_type": "stream",
          "text": [
            "tensor(2.3430, grad_fn=<NllLossBackward>)\n"
          ],
          "name": "stdout"
        }
      ]
    },
    {
      "cell_type": "markdown",
      "metadata": {
        "id": "aQ6Nb-VeobUn"
      },
      "source": [
        "Optimization using SDG"
      ]
    },
    {
      "cell_type": "code",
      "metadata": {
        "id": "UOHLU025oaLE"
      },
      "source": [
        "learningRate = 0.001\n",
        "optimizer = torch.optim.SGD(model.parameters(), lr=learningRate)"
      ],
      "execution_count": 75,
      "outputs": []
    },
    {
      "cell_type": "code",
      "metadata": {
        "id": "3vXaT1XWolxZ"
      },
      "source": [
        "# Training the model\n",
        "\n",
        "def lossBatch(model, lossFn, xb, yb, opt=None, metric=None):\n",
        "  # calculate the loss\n",
        "  preds = model(xb)\n",
        "  loss = lossFn(preds, yb)\n",
        "\n",
        "  if opt is not None:\n",
        "    # compute gradients\n",
        "    loss.backward()\n",
        "    # update parameters\n",
        "    opt.step()\n",
        "    # reset gradients to 0 (don't want to calculate second derivatives!)\n",
        "    opt.zero_grad()\n",
        "\n",
        "  metricResult = None\n",
        "  if metric is not None:\n",
        "    metricResult = metric(preds, yb)\n",
        "\n",
        "  return loss.item(), len(xb),  metricResult"
      ],
      "execution_count": 76,
      "outputs": []
    },
    {
      "cell_type": "code",
      "metadata": {
        "id": "2ZATNDhRo6sn"
      },
      "source": [
        "#define a function that computes and evaluates the total cost on the validation set.\n",
        "\n",
        "def evaluate(model, lossFn, validDL, metric=None):\n",
        "  #with torch.no_grad (this was causing an error)\n",
        "  \n",
        "  # pass each batch of the validation set through the model to form a multidimensional list (holding loss, length and metric for each batch)\n",
        "  # the reason why we made optimization optional is so we can reuse the function here\n",
        "  results = [lossBatch(model, lossFn, xb, yb, metric=metric,) for xb,yb in validDL]\n",
        "\n",
        "  # separate losses, counts and metrics\n",
        "  losses, nums, metrics = zip(*results)\n",
        "\n",
        "  # total size of the dataset (we keep track of lengths of batches since dataset might not be perfectly divisible by batch size)\n",
        "  total = np.sum(nums)\n",
        "\n",
        "  # find average total loss over all batches in validation (remember these are all vectors doing element wise operations.)\n",
        "  avgLoss = np.sum(np.multiply(losses, nums))/total\n",
        "\n",
        "  # if there is a metric passed, compute the average metric\n",
        "  if metric is not None:\n",
        "    # avg of metric accross batches\n",
        "    avgMetric = np.sum(np.multiply(metrics, nums)) / total\n",
        "\n",
        "  return avgLoss, total, avgMetric"
      ],
      "execution_count": 78,
      "outputs": []
    },
    {
      "cell_type": "code",
      "metadata": {
        "id": "ThSH8GqHpEkG"
      },
      "source": [
        "def accuracy(outputs, labels):\n",
        "  _, preds = torch.max(outputs, dim=1) # underscore discards the max value itself, we don't care about that\n",
        "  return torch.sum(preds == labels).item() / len(preds)"
      ],
      "execution_count": 79,
      "outputs": []
    },
    {
      "cell_type": "code",
      "metadata": {
        "colab": {
          "base_uri": "https://localhost:8080/"
        },
        "id": "ze4T1l5VpJgq",
        "outputId": "cd45f13d-3df6-4f7b-84b0-5d5610f6ae45"
      },
      "source": [
        "E = evaluate(model, lossFn, valLoader, metric=accuracy)\n",
        "\n",
        "print(\"training set loss: \", loss)\n",
        "print(\"cross validation set loss: \", E[0])"
      ],
      "execution_count": 80,
      "outputs": [
        {
          "output_type": "stream",
          "text": [
            "/usr/local/lib/python3.7/dist-packages/torch/utils/data/dataloader.py:477: UserWarning: This DataLoader will create 4 worker processes in total. Our suggested max number of worker in current system is 2, which is smaller than what this DataLoader is going to create. Please be aware that excessive worker creation might get DataLoader running slow or even freeze, lower the worker number to avoid potential slowness/freeze if necessary.\n",
            "  cpuset_checked))\n"
          ],
          "name": "stderr"
        },
        {
          "output_type": "stream",
          "text": [
            "training set loss:  tensor(2.3430, grad_fn=<NllLossBackward>)\n",
            "cross validation set loss:  2.323052903175354\n"
          ],
          "name": "stdout"
        }
      ]
    },
    {
      "cell_type": "code",
      "metadata": {
        "id": "jIFD1NdXpQD-"
      },
      "source": [
        "def fit(epochs, model, lossFn, opt, trainDL, valDL, metric=None):\n",
        "  valList = [0.10]\n",
        "  for epoch in range(epochs):\n",
        "    # training - perform one step gradient descent on each batch, then moves on\n",
        "    for xb, yb in trainDL: \n",
        "      loss,_,lossMetric = lossBatch(model, lossFn, xb, yb, opt)\n",
        "      \n",
        "\n",
        "    # evaluation on cross val dataset - after updating over all batches, technically one epoch\n",
        "    # evaluates over all validation batches and then calculates average val loss, as well as the metric (accuracy)\n",
        "    valResult = evaluate(model, lossFn, valDL, metric)\n",
        "    valLoss, total, valMetric = valResult\n",
        "    valList.append(valMetric)\n",
        "    # print progress\n",
        "    if metric is None: \n",
        "      print('Epoch [{}/{}], Loss: {:.4f}'.format(epoch + 1, epochs, valLoss))\n",
        "    else:\n",
        "      print('Epoch [{}/{}], Loss: {:.4f}, {}: {:.4f}'.format(epoch + 1, epochs, valLoss, metric.__name__, valMetric))\n",
        "\n",
        "  return valList"
      ],
      "execution_count": 81,
      "outputs": []
    },
    {
      "cell_type": "code",
      "metadata": {
        "id": "gz3j11N9p_z0"
      },
      "source": [
        "# redefine model and optimizer\n",
        "learningRate = 0.009\n",
        "model = CIFAR10()\n",
        "optimizer = torch.optim.SGD(model.parameters(), lr=learningRate)"
      ],
      "execution_count": 82,
      "outputs": []
    },
    {
      "cell_type": "code",
      "metadata": {
        "colab": {
          "base_uri": "https://localhost:8080/"
        },
        "id": "z_uzQFkXqCNL",
        "outputId": "c7e988d9-5e7a-4f08-de5b-fb49df8e54ba"
      },
      "source": [
        "trainList = fit(100, model, lossFn, optimizer, trainLoader, valLoader, metric=accuracy)"
      ],
      "execution_count": 85,
      "outputs": [
        {
          "output_type": "stream",
          "text": [
            "/usr/local/lib/python3.7/dist-packages/torch/utils/data/dataloader.py:477: UserWarning: This DataLoader will create 4 worker processes in total. Our suggested max number of worker in current system is 2, which is smaller than what this DataLoader is going to create. Please be aware that excessive worker creation might get DataLoader running slow or even freeze, lower the worker number to avoid potential slowness/freeze if necessary.\n",
            "  cpuset_checked))\n"
          ],
          "name": "stderr"
        },
        {
          "output_type": "stream",
          "text": [
            "Epoch [1/100], Loss: 1.7271, accuracy: 0.4081\n",
            "Epoch [2/100], Loss: 1.7214, accuracy: 0.4054\n",
            "Epoch [3/100], Loss: 1.7128, accuracy: 0.4167\n",
            "Epoch [4/100], Loss: 1.7069, accuracy: 0.4146\n",
            "Epoch [5/100], Loss: 1.7089, accuracy: 0.4167\n",
            "Epoch [6/100], Loss: 1.6922, accuracy: 0.4239\n",
            "Epoch [7/100], Loss: 1.7007, accuracy: 0.4160\n",
            "Epoch [8/100], Loss: 1.6990, accuracy: 0.4164\n",
            "Epoch [9/100], Loss: 1.7253, accuracy: 0.4027\n",
            "Epoch [10/100], Loss: 1.6947, accuracy: 0.4235\n",
            "Epoch [11/100], Loss: 1.6877, accuracy: 0.4288\n",
            "Epoch [12/100], Loss: 1.6955, accuracy: 0.4188\n",
            "Epoch [13/100], Loss: 1.6940, accuracy: 0.4180\n",
            "Epoch [14/100], Loss: 1.6931, accuracy: 0.4232\n",
            "Epoch [15/100], Loss: 1.6812, accuracy: 0.4297\n",
            "Epoch [16/100], Loss: 1.6994, accuracy: 0.4138\n",
            "Epoch [17/100], Loss: 1.6871, accuracy: 0.4253\n",
            "Epoch [18/100], Loss: 1.6878, accuracy: 0.4249\n",
            "Epoch [19/100], Loss: 1.6850, accuracy: 0.4201\n",
            "Epoch [20/100], Loss: 1.6858, accuracy: 0.4201\n",
            "Epoch [21/100], Loss: 1.6755, accuracy: 0.4321\n",
            "Epoch [22/100], Loss: 1.6950, accuracy: 0.4141\n",
            "Epoch [23/100], Loss: 1.6916, accuracy: 0.4186\n",
            "Epoch [24/100], Loss: 1.6811, accuracy: 0.4309\n",
            "Epoch [25/100], Loss: 1.6811, accuracy: 0.4278\n",
            "Epoch [26/100], Loss: 1.6885, accuracy: 0.4218\n",
            "Epoch [27/100], Loss: 1.6683, accuracy: 0.4348\n",
            "Epoch [28/100], Loss: 1.6749, accuracy: 0.4304\n",
            "Epoch [29/100], Loss: 1.6663, accuracy: 0.4356\n",
            "Epoch [30/100], Loss: 1.6671, accuracy: 0.4335\n",
            "Epoch [31/100], Loss: 1.6807, accuracy: 0.4259\n",
            "Epoch [32/100], Loss: 1.6710, accuracy: 0.4305\n",
            "Epoch [33/100], Loss: 1.6704, accuracy: 0.4333\n",
            "Epoch [34/100], Loss: 1.6816, accuracy: 0.4228\n",
            "Epoch [35/100], Loss: 1.6945, accuracy: 0.4114\n",
            "Epoch [36/100], Loss: 1.6786, accuracy: 0.4253\n",
            "Epoch [37/100], Loss: 1.6662, accuracy: 0.4323\n",
            "Epoch [38/100], Loss: 1.6681, accuracy: 0.4355\n",
            "Epoch [39/100], Loss: 1.6561, accuracy: 0.4415\n",
            "Epoch [40/100], Loss: 1.6802, accuracy: 0.4215\n",
            "Epoch [41/100], Loss: 1.6719, accuracy: 0.4305\n",
            "Epoch [42/100], Loss: 1.6662, accuracy: 0.4279\n",
            "Epoch [43/100], Loss: 1.6677, accuracy: 0.4263\n",
            "Epoch [44/100], Loss: 1.6588, accuracy: 0.4349\n",
            "Epoch [45/100], Loss: 1.6673, accuracy: 0.4278\n",
            "Epoch [46/100], Loss: 1.6711, accuracy: 0.4341\n",
            "Epoch [47/100], Loss: 1.6714, accuracy: 0.4275\n",
            "Epoch [48/100], Loss: 1.6802, accuracy: 0.4194\n",
            "Epoch [49/100], Loss: 1.6641, accuracy: 0.4301\n",
            "Epoch [50/100], Loss: 1.6511, accuracy: 0.4412\n",
            "Epoch [51/100], Loss: 1.6539, accuracy: 0.4374\n",
            "Epoch [52/100], Loss: 1.6568, accuracy: 0.4386\n",
            "Epoch [53/100], Loss: 1.6647, accuracy: 0.4331\n",
            "Epoch [54/100], Loss: 1.6517, accuracy: 0.4415\n",
            "Epoch [55/100], Loss: 1.6539, accuracy: 0.4405\n",
            "Epoch [56/100], Loss: 1.6602, accuracy: 0.4366\n",
            "Epoch [57/100], Loss: 1.6505, accuracy: 0.4416\n",
            "Epoch [58/100], Loss: 1.6633, accuracy: 0.4313\n",
            "Epoch [59/100], Loss: 1.6518, accuracy: 0.4393\n",
            "Epoch [60/100], Loss: 1.6465, accuracy: 0.4398\n",
            "Epoch [61/100], Loss: 1.6450, accuracy: 0.4427\n",
            "Epoch [62/100], Loss: 1.6529, accuracy: 0.4381\n",
            "Epoch [63/100], Loss: 1.6628, accuracy: 0.4359\n",
            "Epoch [64/100], Loss: 1.6454, accuracy: 0.4425\n",
            "Epoch [65/100], Loss: 1.6551, accuracy: 0.4375\n",
            "Epoch [66/100], Loss: 1.6550, accuracy: 0.4361\n",
            "Epoch [67/100], Loss: 1.6417, accuracy: 0.4451\n",
            "Epoch [68/100], Loss: 1.6642, accuracy: 0.4354\n",
            "Epoch [69/100], Loss: 1.6472, accuracy: 0.4433\n",
            "Epoch [70/100], Loss: 1.6510, accuracy: 0.4375\n",
            "Epoch [71/100], Loss: 1.6647, accuracy: 0.4292\n",
            "Epoch [72/100], Loss: 1.6530, accuracy: 0.4362\n",
            "Epoch [73/100], Loss: 1.6421, accuracy: 0.4434\n",
            "Epoch [74/100], Loss: 1.6428, accuracy: 0.4442\n",
            "Epoch [75/100], Loss: 1.6432, accuracy: 0.4420\n",
            "Epoch [76/100], Loss: 1.6510, accuracy: 0.4384\n",
            "Epoch [77/100], Loss: 1.6422, accuracy: 0.4401\n",
            "Epoch [78/100], Loss: 1.6411, accuracy: 0.4446\n",
            "Epoch [79/100], Loss: 1.6481, accuracy: 0.4389\n",
            "Epoch [80/100], Loss: 1.6360, accuracy: 0.4456\n",
            "Epoch [81/100], Loss: 1.6527, accuracy: 0.4367\n",
            "Epoch [82/100], Loss: 1.6360, accuracy: 0.4472\n",
            "Epoch [83/100], Loss: 1.6434, accuracy: 0.4405\n",
            "Epoch [84/100], Loss: 1.6387, accuracy: 0.4482\n",
            "Epoch [85/100], Loss: 1.6341, accuracy: 0.4478\n",
            "Epoch [86/100], Loss: 1.6545, accuracy: 0.4352\n",
            "Epoch [87/100], Loss: 1.6396, accuracy: 0.4412\n",
            "Epoch [88/100], Loss: 1.6383, accuracy: 0.4435\n",
            "Epoch [89/100], Loss: 1.6349, accuracy: 0.4463\n",
            "Epoch [90/100], Loss: 1.6435, accuracy: 0.4386\n",
            "Epoch [91/100], Loss: 1.6417, accuracy: 0.4407\n",
            "Epoch [92/100], Loss: 1.6567, accuracy: 0.4329\n",
            "Epoch [93/100], Loss: 1.6425, accuracy: 0.4424\n",
            "Epoch [94/100], Loss: 1.6345, accuracy: 0.4466\n",
            "Epoch [95/100], Loss: 1.6334, accuracy: 0.4485\n",
            "Epoch [96/100], Loss: 1.6290, accuracy: 0.4484\n",
            "Epoch [97/100], Loss: 1.6404, accuracy: 0.4430\n",
            "Epoch [98/100], Loss: 1.6350, accuracy: 0.4476\n",
            "Epoch [99/100], Loss: 1.6403, accuracy: 0.4405\n",
            "Epoch [100/100], Loss: 1.6424, accuracy: 0.4426\n"
          ],
          "name": "stdout"
        }
      ]
    },
    {
      "cell_type": "code",
      "metadata": {
        "colab": {
          "base_uri": "https://localhost:8080/",
          "height": 312
        },
        "id": "rAeg7za6qR2f",
        "outputId": "6c04b1f3-bfb3-499c-aabc-70c8f9b39f6f"
      },
      "source": [
        "plt.plot(trainList, '-x')\n",
        "axes = plt.gca() #gca means get current axes\n",
        "axes.set_ylim([0,1])\n",
        "plt.xlabel('epoch')\n",
        "plt.ylabel('accuracy')\n",
        "plt.title('accuracy vs number of epochs')"
      ],
      "execution_count": 87,
      "outputs": [
        {
          "output_type": "execute_result",
          "data": {
            "text/plain": [
              "Text(0.5, 1.0, 'accuracy vs number of epochs')"
            ]
          },
          "metadata": {
            "tags": []
          },
          "execution_count": 87
        },
        {
          "output_type": "display_data",
          "data": {
            "image/png": "[encoded data removed]",
            "text/plain": [
              "<Figure size 432x288 with 1 Axes>"
            ]
          },
          "metadata": {
            "tags": [],
            "needs_background": "light"
          }
        }
      ]
    },
    {
      "cell_type": "code",
      "metadata": {
        "colab": {
          "base_uri": "https://localhost:8080/"
        },
        "id": "iDIiPtljq4-a",
        "outputId": "f94e019f-ec61-4cd7-da2c-62776ea0085c"
      },
      "source": [
        "test = torchvision.datasets.CIFAR10(root='./data', train=False, download=True, transform=torchvision.transforms.ToTensor())"
      ],
      "execution_count": 88,
      "outputs": [
        {
          "output_type": "stream",
          "text": [
            "Files already downloaded and verified\n"
          ],
          "name": "stdout"
        }
      ]
    },
    {
      "cell_type": "code",
      "metadata": {
        "id": "CE0Ab284q6z0"
      },
      "source": [
        "testLoader = DataLoader(test, batchSize)"
      ],
      "execution_count": 89,
      "outputs": []
    },
    {
      "cell_type": "code",
      "metadata": {
        "colab": {
          "base_uri": "https://localhost:8080/"
        },
        "id": "VCOnUFGuq8k4",
        "outputId": "d677b5aa-4108-4d70-9848-d3968c36aa69"
      },
      "source": [
        "avgLoss, total, avgMetric = evaluate(model, F.cross_entropy, testLoader, metric=accuracy)\n",
        "print(\"test set accuracy: \\n\", avgMetric)\n",
        "avgLoss, total, avgMetric = evaluate(model, F.cross_entropy, valLoader, metric=accuracy)\n",
        "print(\"cross validation set accuracy: \\n\",avgMetric)\n",
        "avgLoss, total, avgMetric = evaluate(model, F.cross_entropy, trainLoader, metric=accuracy)\n",
        "print(\"training set accuracy: \\n\",avgMetric)"
      ],
      "execution_count": 90,
      "outputs": [
        {
          "output_type": "stream",
          "text": [
            "test set accuracy: \n",
            " 0.4016\n"
          ],
          "name": "stdout"
        },
        {
          "output_type": "stream",
          "text": [
            "/usr/local/lib/python3.7/dist-packages/torch/utils/data/dataloader.py:477: UserWarning: This DataLoader will create 4 worker processes in total. Our suggested max number of worker in current system is 2, which is smaller than what this DataLoader is going to create. Please be aware that excessive worker creation might get DataLoader running slow or even freeze, lower the worker number to avoid potential slowness/freeze if necessary.\n",
            "  cpuset_checked))\n"
          ],
          "name": "stderr"
        },
        {
          "output_type": "stream",
          "text": [
            "cross validation set accuracy: \n",
            " 0.44264\n",
            "training set accuracy: \n",
            " 0.44264\n"
          ],
          "name": "stdout"
        }
      ]
    }
  ]
}